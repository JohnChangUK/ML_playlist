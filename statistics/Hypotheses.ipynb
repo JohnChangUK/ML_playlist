{
 "cells": [
  {
   "cell_type": "markdown",
   "metadata": {},
   "source": [
    " - $\\large H_0$ is the null hypothesis\n",
    " - $\\large H_a$ is the alternative hypothesis\n",
    "  \n",
    "- Type 1 error `Reject the null hypothesis even though it is true`\n",
    " - You don't accept $\\large H_0$ even though it is true\n",
    "- Type 2 error `Failing to reject null hypothesis even though it is false`\n",
    " - You accept $\\large H_0$ even though it is false\n",
    "\n"
   ]
  },
  {
   "cell_type": "markdown",
   "metadata": {},
   "source": [
    "## Example question:\n",
    "- A large uni is curious if they should build another canteen. They plan to survey a sample of their students to see if there is strong evidence that the proportion interested in a meal plan is higher than 40%, in which case they will consider building a new canteen.\n",
    "let $\\rho$ represent the proportion of students interested in a meal plan. Here are the hypothesis they'll use:\n",
    "- $\\large H_0: \\rho \\leq\\ 0.40$\n",
    "- $\\large H_a: \\rho \\geq\\ 0.40$\n",
    "\n",
    "### What would be the consequence of a Type II error in thie context?\n",
    " - a) They DON'T consider building a new canteen when they SHOULD\n",
    " - b) They DON'T consider building a new canteen when they SHOULD NOT\n",
    " - c) They consider building a new canteen when they SHOULD NOT\n",
    " - d) They consider building a new canteen when they SHOULD"
   ]
  },
  {
   "cell_type": "markdown",
   "metadata": {},
   "source": [
    "**Answer is a**\n",
    "- If $\\large H_0$ is false, it means the proportion interested IS GREATER than 40%. \n",
    "- Essentially, you accept that $\\large \\rho \\leq\\ 0.40$, EVEN THOUGH it is false; meaning $\\large \\rho \\geq\\ 0.40$. \n",
    "- If $\\large \\rho \\geq\\ 0.40$, YOU SHOULD build a new cafeteria. \n",
    "- Since you reject this,  you WON'T build a new cafeteria even though you SHOULD! "
   ]
  },
  {
   "cell_type": "code",
   "execution_count": null,
   "metadata": {},
   "outputs": [],
   "source": []
  }
 ],
 "metadata": {
  "kernelspec": {
   "display_name": "Python 3",
   "language": "python",
   "name": "python3"
  },
  "language_info": {
   "codemirror_mode": {
    "name": "ipython",
    "version": 3
   },
   "file_extension": ".py",
   "mimetype": "text/x-python",
   "name": "python",
   "nbconvert_exporter": "python",
   "pygments_lexer": "ipython3",
   "version": "3.7.6"
  }
 },
 "nbformat": 4,
 "nbformat_minor": 4
}
