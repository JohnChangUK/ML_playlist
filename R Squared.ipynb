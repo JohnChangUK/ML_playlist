{
 "cells": [
  {
   "cell_type": "markdown",
   "metadata": {},
   "source": [
    "$\\Large R^2 = 1 - \\frac{SSres}{SStot} = 1 - \\frac{\\Sigma (y_i - \\hat{y_i})^2}{\\Sigma (y_i-\\bar{y})^2}%6.4f$\n",
    "- R-squared is a statistical measure of how close the data are to the fitted regression line.(Also known as the coefficient of determination)\n",
    "- Checks the goodness of the best fit line"
   ]
  },
  {
   "cell_type": "markdown",
   "metadata": {},
   "source": [
    "$\\Large R^2 adjusted = 1 - \\frac{(1 - R^2)(N - 1)}{N - p - 1} %6.4f$\n",
    "- Where \n",
    " - R^2 = Sample R-Square\n",
    " - p = number of predictors/independent variables\n",
    " - N = Total sample size of dataset"
   ]
  },
  {
   "cell_type": "markdown",
   "metadata": {},
   "source": [
    "- Everytime you add an independent variable to a model, the **R-squared increases**, even if the independent variable is insignificant; it never declines.\n",
    "- Whereas **Adjusted R-squared** increases only when the independent variables are significant and and affects the dependent variable **y**.\n",
    "- **Adjusted R-squared** value will always be less than or equal to **R-squared value**."
   ]
  },
  {
   "cell_type": "code",
   "execution_count": null,
   "metadata": {},
   "outputs": [],
   "source": []
  }
 ],
 "metadata": {
  "kernelspec": {
   "display_name": "Python 3",
   "language": "python",
   "name": "python3"
  },
  "language_info": {
   "codemirror_mode": {
    "name": "ipython",
    "version": 3
   },
   "file_extension": ".py",
   "mimetype": "text/x-python",
   "name": "python",
   "nbconvert_exporter": "python",
   "pygments_lexer": "ipython3",
   "version": "3.7.6"
  }
 },
 "nbformat": 4,
 "nbformat_minor": 4
}
